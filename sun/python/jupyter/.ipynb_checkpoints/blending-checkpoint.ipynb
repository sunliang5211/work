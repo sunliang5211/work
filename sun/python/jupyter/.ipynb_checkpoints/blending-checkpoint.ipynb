{
 "cells": [
  {
   "cell_type": "code",
   "execution_count": 2,
   "metadata": {},
   "outputs": [],
   "source": [
    "# -*- coding:utf-8 -*-\n",
    "#导入相关包\n",
    "import os,sys\n",
    "import time\n",
    "import pandas as pd\n",
    "import numpy as np\n",
    "import lightgbm as lgb\n",
    "from sklearn.model_selection import RandomizedSearchCV\n",
    "from sklearn.model_selection import train_test_split\n",
    "from sklearn.cluster import KMeans\n",
    "#设置路径,读取数据\n",
    "train_savepath = 'D:/worksp/jupyter/Model/data/train/hbsubs/'\n",
    "test_savepath = 'D:/worksp/jupyter/Model/data/test/hbsubs/'\n",
    "model_savepath = 'D:/worksp/jupyter/Model/Model_path/hbsubs/'\n",
    "result_path = 'D:/worksp/jupyter/Model/result_path/'\n",
    "df = pd.read_csv(train_savepath + 'lgb_train_allprod_2000k.csv')"
   ]
  },
  {
   "cell_type": "code",
   "execution_count": 2,
   "metadata": {},
   "outputs": [
    {
     "name": "stderr",
     "output_type": "stream",
     "text": [
      "d:\\program files (x86)\\anaconda3\\lib\\site-packages\\pandas\\core\\indexing.py:194: SettingWithCopyWarning: \n",
      "A value is trying to be set on a copy of a slice from a DataFrame\n",
      "\n",
      "See the caveats in the documentation: http://pandas.pydata.org/pandas-docs/stable/indexing.html#indexing-view-versus-copy\n",
      "  self._setitem_with_indexer(indexer, value)\n"
     ]
    }
   ],
   "source": [
    "#label转换\n",
    "df['label'].loc[df['label']=='a'] = 0\n",
    "df['label'].loc[df['label']=='B232080'] = 1\n",
    "df['label'].loc[df['label']=='B232081'] = 1\n",
    "df['label'].loc[df['label']=='B232082'] = 1\n",
    "df['label'].loc[df['label']=='B232083'] = 1\n",
    "df['label'].loc[df['label']=='B232084'] = 1\n",
    "df['label'].loc[df['label']=='B232085'] = 1\n",
    "#对连续型数值字段构建新特征\n",
    "def numcol_engin():\n",
    "    numcol = ['l2499','l2277','l2447','l2457','l3709','l2269','l2271','l3707','l2335','l2337']\n",
    "    for i in numcol:\n",
    "        mean = df[i].mean()\n",
    "        std = df[i].std()\n",
    "        df[i+'e'] = df[i].apply(lambda x: abs((x - mean ) / (std)))\n",
    "#部分字段特征工程\n",
    "df['l2373'] = df['l2373']+df['l2375']+df['l2377']+df['l2379']+df['l2381']+df['l2383']\n",
    "df['l2373'].loc[df['l2373']>0] = 1\n",
    "df['l2097'].loc[df['l2097']>2019] = 0\n",
    "#df['l2271e2'] = df['l2271'] - 78\n",
    "df['l2447l3709e'] = df['l2447'] - df['l3709']\n",
    "numcol_engin()"
   ]
  },
  {
   "cell_type": "code",
   "execution_count": 3,
   "metadata": {},
   "outputs": [],
   "source": [
    "#按50%、30%、20%划分下层模型训练集、上层模型训练集、验证集\n",
    "df1 = df.iloc[0:int(df.shape[0]*0.5)+1,:]\n",
    "df2 = df.iloc[int(df.shape[0]*0.5)+1:int(df.shape[0]*0.8)+1,:]\n",
    "df3 = df.iloc[int(df.shape[0]*0.8)+1:int(df.shape[0])+1,:]\n",
    "#设置不同数据集的特征和label\n",
    "model1_feature = ['l2271','l2499','l2269','l2457','l3709','l2277','l2447','l2555','l2119','l3951','l3707',\n",
    "                  'l2499e','l2277e','l2447e','l2457e','l3709e','l2269e','l2271e','l3707e','l2447l3709e']\n",
    "model2_feature = ['l2117','l2257','l7265','l2373','l1309','l1383','l1431','l2105','l2335','l2337','l2517'\n",
    "                 ,'l2599','l2935','l2337e','l2335e']\n",
    "model3_feature = ['l3687','l2113','l2109','l2121','l1705','l2097']\n",
    "\n",
    "model1_train1 = df1.loc[:,model1_feature]\n",
    "model2_train1 = df1.loc[:,model2_feature]\n",
    "model3_train1 = df1.loc[:,model3_feature]\n",
    "y_train1 = df1.loc[:,['label']]\n",
    "#底层模型的lgb数据格式训练集\n",
    "lgb_model1_train1 = lgb.Dataset(model1_train1, y_train1, silent=True)\n",
    "lgb_model2_train1 = lgb.Dataset(model2_train1, y_train1, silent=True)\n",
    "lgb_model3_train1 = lgb.Dataset(model3_train1, y_train1, silent=True)"
   ]
  },
  {
   "cell_type": "code",
   "execution_count": 15,
   "metadata": {},
   "outputs": [],
   "source": [
    "#设置训练集列表\n",
    "df_list = [lgb_model1_train1,lgb_model2_train1,lgb_model3_train1]\n",
    "#设置CV参数\n",
    "cv_params = {'boosting_type': 'gbdt', \n",
    "    'objective': 'binary', \n",
    "    'learning_rate': 0.1, \n",
    "    'num_leaves': 50, \n",
    "    'max_depth': 5,    \n",
    "    'subsample': 0.8,\n",
    "    #'scale_pos_weight':scale_pos_weight[0]\n",
    "    #'colsample_bytree': 0.8\n",
    "    }\n",
    "#求弱分类器数目\n",
    "best_n_estimators_list = []\n",
    "best_cv_score = []\n",
    "def n_estimators_fun(df_list):\n",
    "    global best_n_estimators_list\n",
    "    global best_cv_score\n",
    "    for i in df_list:\n",
    "        cv_results = lgb.cv(\n",
    "        cv_params, i, num_boost_round=2000, nfold=5, stratified=True, shuffle=True, metrics='auc',\n",
    "        early_stopping_rounds=50, verbose_eval=50, show_stdv=True, seed=0)\n",
    "        best_n_estimators_list.append(len(cv_results['auc-mean']))\n",
    "        best_cv_score.append(cv_results['auc-mean'][-1])"
   ]
  },
  {
   "cell_type": "code",
   "execution_count": 16,
   "metadata": {},
   "outputs": [
    {
     "name": "stdout",
     "output_type": "stream",
     "text": [
      "[50]\tcv_agg's auc: 0.957041 + 0.000666212\n",
      "[100]\tcv_agg's auc: 0.960901 + 0.000951849\n",
      "[150]\tcv_agg's auc: 0.962247 + 0.000956301\n",
      "[200]\tcv_agg's auc: 0.963508 + 0.000813061\n",
      "[250]\tcv_agg's auc: 0.964423 + 0.000627293\n",
      "[300]\tcv_agg's auc: 0.964733 + 0.000502314\n",
      "[350]\tcv_agg's auc: 0.96489 + 0.000470186\n",
      "[400]\tcv_agg's auc: 0.965094 + 0.000413456\n",
      "[50]\tcv_agg's auc: 0.819872 + 0.00315195\n",
      "[100]\tcv_agg's auc: 0.821582 + 0.00325034\n",
      "[150]\tcv_agg's auc: 0.82224 + 0.00308538\n",
      "[50]\tcv_agg's auc: 0.780827 + 0.0015575\n",
      "[100]\tcv_agg's auc: 0.780644 + 0.00132346\n",
      "186.52865009999994\n"
     ]
    }
   ],
   "source": [
    "begintime=time.clock()\n",
    "n_estimators_fun(df_list)\n",
    "endtime=time.clock()\n",
    "print (endtime-begintime)"
   ]
  },
  {
   "cell_type": "code",
   "execution_count": 36,
   "metadata": {},
   "outputs": [
    {
     "name": "stdout",
     "output_type": "stream",
     "text": [
      "Fitting 5 folds for each of 10 candidates, totalling 50 fits\n"
     ]
    },
    {
     "name": "stderr",
     "output_type": "stream",
     "text": [
      "[Parallel(n_jobs=1)]: Using backend SequentialBackend with 1 concurrent workers.\n",
      "d:\\program files (x86)\\anaconda3\\lib\\site-packages\\sklearn\\preprocessing\\label.py:219: DataConversionWarning: A column-vector y was passed when a 1d array was expected. Please change the shape of y to (n_samples, ), for example using ravel().\n",
      "  y = column_or_1d(y, warn=True)\n",
      "d:\\program files (x86)\\anaconda3\\lib\\site-packages\\sklearn\\preprocessing\\label.py:252: DataConversionWarning: A column-vector y was passed when a 1d array was expected. Please change the shape of y to (n_samples, ), for example using ravel().\n",
      "  y = column_or_1d(y, warn=True)\n",
      "d:\\program files (x86)\\anaconda3\\lib\\site-packages\\sklearn\\preprocessing\\label.py:219: DataConversionWarning: A column-vector y was passed when a 1d array was expected. Please change the shape of y to (n_samples, ), for example using ravel().\n",
      "  y = column_or_1d(y, warn=True)\n",
      "d:\\program files (x86)\\anaconda3\\lib\\site-packages\\sklearn\\preprocessing\\label.py:252: DataConversionWarning: A column-vector y was passed when a 1d array was expected. Please change the shape of y to (n_samples, ), for example using ravel().\n",
      "  y = column_or_1d(y, warn=True)\n",
      "d:\\program files (x86)\\anaconda3\\lib\\site-packages\\sklearn\\preprocessing\\label.py:219: DataConversionWarning: A column-vector y was passed when a 1d array was expected. Please change the shape of y to (n_samples, ), for example using ravel().\n",
      "  y = column_or_1d(y, warn=True)\n",
      "d:\\program files (x86)\\anaconda3\\lib\\site-packages\\sklearn\\preprocessing\\label.py:252: DataConversionWarning: A column-vector y was passed when a 1d array was expected. Please change the shape of y to (n_samples, ), for example using ravel().\n",
      "  y = column_or_1d(y, warn=True)\n",
      "d:\\program files (x86)\\anaconda3\\lib\\site-packages\\sklearn\\preprocessing\\label.py:219: DataConversionWarning: A column-vector y was passed when a 1d array was expected. Please change the shape of y to (n_samples, ), for example using ravel().\n",
      "  y = column_or_1d(y, warn=True)\n",
      "d:\\program files (x86)\\anaconda3\\lib\\site-packages\\sklearn\\preprocessing\\label.py:252: DataConversionWarning: A column-vector y was passed when a 1d array was expected. Please change the shape of y to (n_samples, ), for example using ravel().\n",
      "  y = column_or_1d(y, warn=True)\n",
      "d:\\program files (x86)\\anaconda3\\lib\\site-packages\\sklearn\\preprocessing\\label.py:219: DataConversionWarning: A column-vector y was passed when a 1d array was expected. Please change the shape of y to (n_samples, ), for example using ravel().\n",
      "  y = column_or_1d(y, warn=True)\n",
      "d:\\program files (x86)\\anaconda3\\lib\\site-packages\\sklearn\\preprocessing\\label.py:252: DataConversionWarning: A column-vector y was passed when a 1d array was expected. Please change the shape of y to (n_samples, ), for example using ravel().\n",
      "  y = column_or_1d(y, warn=True)\n",
      "d:\\program files (x86)\\anaconda3\\lib\\site-packages\\sklearn\\preprocessing\\label.py:219: DataConversionWarning: A column-vector y was passed when a 1d array was expected. Please change the shape of y to (n_samples, ), for example using ravel().\n",
      "  y = column_or_1d(y, warn=True)\n",
      "d:\\program files (x86)\\anaconda3\\lib\\site-packages\\sklearn\\preprocessing\\label.py:252: DataConversionWarning: A column-vector y was passed when a 1d array was expected. Please change the shape of y to (n_samples, ), for example using ravel().\n",
      "  y = column_or_1d(y, warn=True)\n",
      "d:\\program files (x86)\\anaconda3\\lib\\site-packages\\sklearn\\preprocessing\\label.py:219: DataConversionWarning: A column-vector y was passed when a 1d array was expected. Please change the shape of y to (n_samples, ), for example using ravel().\n",
      "  y = column_or_1d(y, warn=True)\n",
      "d:\\program files (x86)\\anaconda3\\lib\\site-packages\\sklearn\\preprocessing\\label.py:252: DataConversionWarning: A column-vector y was passed when a 1d array was expected. Please change the shape of y to (n_samples, ), for example using ravel().\n",
      "  y = column_or_1d(y, warn=True)\n",
      "d:\\program files (x86)\\anaconda3\\lib\\site-packages\\sklearn\\preprocessing\\label.py:219: DataConversionWarning: A column-vector y was passed when a 1d array was expected. Please change the shape of y to (n_samples, ), for example using ravel().\n",
      "  y = column_or_1d(y, warn=True)\n",
      "d:\\program files (x86)\\anaconda3\\lib\\site-packages\\sklearn\\preprocessing\\label.py:252: DataConversionWarning: A column-vector y was passed when a 1d array was expected. Please change the shape of y to (n_samples, ), for example using ravel().\n",
      "  y = column_or_1d(y, warn=True)\n",
      "d:\\program files (x86)\\anaconda3\\lib\\site-packages\\sklearn\\preprocessing\\label.py:219: DataConversionWarning: A column-vector y was passed when a 1d array was expected. Please change the shape of y to (n_samples, ), for example using ravel().\n",
      "  y = column_or_1d(y, warn=True)\n",
      "d:\\program files (x86)\\anaconda3\\lib\\site-packages\\sklearn\\preprocessing\\label.py:252: DataConversionWarning: A column-vector y was passed when a 1d array was expected. Please change the shape of y to (n_samples, ), for example using ravel().\n",
      "  y = column_or_1d(y, warn=True)\n",
      "d:\\program files (x86)\\anaconda3\\lib\\site-packages\\sklearn\\preprocessing\\label.py:219: DataConversionWarning: A column-vector y was passed when a 1d array was expected. Please change the shape of y to (n_samples, ), for example using ravel().\n",
      "  y = column_or_1d(y, warn=True)\n",
      "d:\\program files (x86)\\anaconda3\\lib\\site-packages\\sklearn\\preprocessing\\label.py:252: DataConversionWarning: A column-vector y was passed when a 1d array was expected. Please change the shape of y to (n_samples, ), for example using ravel().\n",
      "  y = column_or_1d(y, warn=True)\n",
      "d:\\program files (x86)\\anaconda3\\lib\\site-packages\\sklearn\\preprocessing\\label.py:219: DataConversionWarning: A column-vector y was passed when a 1d array was expected. Please change the shape of y to (n_samples, ), for example using ravel().\n",
      "  y = column_or_1d(y, warn=True)\n",
      "d:\\program files (x86)\\anaconda3\\lib\\site-packages\\sklearn\\preprocessing\\label.py:252: DataConversionWarning: A column-vector y was passed when a 1d array was expected. Please change the shape of y to (n_samples, ), for example using ravel().\n",
      "  y = column_or_1d(y, warn=True)\n",
      "d:\\program files (x86)\\anaconda3\\lib\\site-packages\\sklearn\\preprocessing\\label.py:219: DataConversionWarning: A column-vector y was passed when a 1d array was expected. Please change the shape of y to (n_samples, ), for example using ravel().\n",
      "  y = column_or_1d(y, warn=True)\n",
      "d:\\program files (x86)\\anaconda3\\lib\\site-packages\\sklearn\\preprocessing\\label.py:252: DataConversionWarning: A column-vector y was passed when a 1d array was expected. Please change the shape of y to (n_samples, ), for example using ravel().\n",
      "  y = column_or_1d(y, warn=True)\n",
      "d:\\program files (x86)\\anaconda3\\lib\\site-packages\\sklearn\\preprocessing\\label.py:219: DataConversionWarning: A column-vector y was passed when a 1d array was expected. Please change the shape of y to (n_samples, ), for example using ravel().\n",
      "  y = column_or_1d(y, warn=True)\n",
      "d:\\program files (x86)\\anaconda3\\lib\\site-packages\\sklearn\\preprocessing\\label.py:252: DataConversionWarning: A column-vector y was passed when a 1d array was expected. Please change the shape of y to (n_samples, ), for example using ravel().\n",
      "  y = column_or_1d(y, warn=True)\n",
      "d:\\program files (x86)\\anaconda3\\lib\\site-packages\\sklearn\\preprocessing\\label.py:219: DataConversionWarning: A column-vector y was passed when a 1d array was expected. Please change the shape of y to (n_samples, ), for example using ravel().\n",
      "  y = column_or_1d(y, warn=True)\n",
      "d:\\program files (x86)\\anaconda3\\lib\\site-packages\\sklearn\\preprocessing\\label.py:252: DataConversionWarning: A column-vector y was passed when a 1d array was expected. Please change the shape of y to (n_samples, ), for example using ravel().\n",
      "  y = column_or_1d(y, warn=True)\n",
      "d:\\program files (x86)\\anaconda3\\lib\\site-packages\\sklearn\\preprocessing\\label.py:219: DataConversionWarning: A column-vector y was passed when a 1d array was expected. Please change the shape of y to (n_samples, ), for example using ravel().\n",
      "  y = column_or_1d(y, warn=True)\n",
      "d:\\program files (x86)\\anaconda3\\lib\\site-packages\\sklearn\\preprocessing\\label.py:252: DataConversionWarning: A column-vector y was passed when a 1d array was expected. Please change the shape of y to (n_samples, ), for example using ravel().\n",
      "  y = column_or_1d(y, warn=True)\n"
     ]
    },
    {
     "name": "stderr",
     "output_type": "stream",
     "text": [
      "d:\\program files (x86)\\anaconda3\\lib\\site-packages\\sklearn\\preprocessing\\label.py:219: DataConversionWarning: A column-vector y was passed when a 1d array was expected. Please change the shape of y to (n_samples, ), for example using ravel().\n",
      "  y = column_or_1d(y, warn=True)\n",
      "d:\\program files (x86)\\anaconda3\\lib\\site-packages\\sklearn\\preprocessing\\label.py:252: DataConversionWarning: A column-vector y was passed when a 1d array was expected. Please change the shape of y to (n_samples, ), for example using ravel().\n",
      "  y = column_or_1d(y, warn=True)\n",
      "d:\\program files (x86)\\anaconda3\\lib\\site-packages\\sklearn\\preprocessing\\label.py:219: DataConversionWarning: A column-vector y was passed when a 1d array was expected. Please change the shape of y to (n_samples, ), for example using ravel().\n",
      "  y = column_or_1d(y, warn=True)\n",
      "d:\\program files (x86)\\anaconda3\\lib\\site-packages\\sklearn\\preprocessing\\label.py:252: DataConversionWarning: A column-vector y was passed when a 1d array was expected. Please change the shape of y to (n_samples, ), for example using ravel().\n",
      "  y = column_or_1d(y, warn=True)\n",
      "d:\\program files (x86)\\anaconda3\\lib\\site-packages\\sklearn\\preprocessing\\label.py:219: DataConversionWarning: A column-vector y was passed when a 1d array was expected. Please change the shape of y to (n_samples, ), for example using ravel().\n",
      "  y = column_or_1d(y, warn=True)\n",
      "d:\\program files (x86)\\anaconda3\\lib\\site-packages\\sklearn\\preprocessing\\label.py:252: DataConversionWarning: A column-vector y was passed when a 1d array was expected. Please change the shape of y to (n_samples, ), for example using ravel().\n",
      "  y = column_or_1d(y, warn=True)\n",
      "d:\\program files (x86)\\anaconda3\\lib\\site-packages\\sklearn\\preprocessing\\label.py:219: DataConversionWarning: A column-vector y was passed when a 1d array was expected. Please change the shape of y to (n_samples, ), for example using ravel().\n",
      "  y = column_or_1d(y, warn=True)\n",
      "d:\\program files (x86)\\anaconda3\\lib\\site-packages\\sklearn\\preprocessing\\label.py:252: DataConversionWarning: A column-vector y was passed when a 1d array was expected. Please change the shape of y to (n_samples, ), for example using ravel().\n",
      "  y = column_or_1d(y, warn=True)\n",
      "d:\\program files (x86)\\anaconda3\\lib\\site-packages\\sklearn\\preprocessing\\label.py:219: DataConversionWarning: A column-vector y was passed when a 1d array was expected. Please change the shape of y to (n_samples, ), for example using ravel().\n",
      "  y = column_or_1d(y, warn=True)\n",
      "d:\\program files (x86)\\anaconda3\\lib\\site-packages\\sklearn\\preprocessing\\label.py:252: DataConversionWarning: A column-vector y was passed when a 1d array was expected. Please change the shape of y to (n_samples, ), for example using ravel().\n",
      "  y = column_or_1d(y, warn=True)\n",
      "d:\\program files (x86)\\anaconda3\\lib\\site-packages\\sklearn\\preprocessing\\label.py:219: DataConversionWarning: A column-vector y was passed when a 1d array was expected. Please change the shape of y to (n_samples, ), for example using ravel().\n",
      "  y = column_or_1d(y, warn=True)\n",
      "d:\\program files (x86)\\anaconda3\\lib\\site-packages\\sklearn\\preprocessing\\label.py:252: DataConversionWarning: A column-vector y was passed when a 1d array was expected. Please change the shape of y to (n_samples, ), for example using ravel().\n",
      "  y = column_or_1d(y, warn=True)\n",
      "d:\\program files (x86)\\anaconda3\\lib\\site-packages\\sklearn\\preprocessing\\label.py:219: DataConversionWarning: A column-vector y was passed when a 1d array was expected. Please change the shape of y to (n_samples, ), for example using ravel().\n",
      "  y = column_or_1d(y, warn=True)\n",
      "d:\\program files (x86)\\anaconda3\\lib\\site-packages\\sklearn\\preprocessing\\label.py:252: DataConversionWarning: A column-vector y was passed when a 1d array was expected. Please change the shape of y to (n_samples, ), for example using ravel().\n",
      "  y = column_or_1d(y, warn=True)\n",
      "d:\\program files (x86)\\anaconda3\\lib\\site-packages\\sklearn\\preprocessing\\label.py:219: DataConversionWarning: A column-vector y was passed when a 1d array was expected. Please change the shape of y to (n_samples, ), for example using ravel().\n",
      "  y = column_or_1d(y, warn=True)\n",
      "d:\\program files (x86)\\anaconda3\\lib\\site-packages\\sklearn\\preprocessing\\label.py:252: DataConversionWarning: A column-vector y was passed when a 1d array was expected. Please change the shape of y to (n_samples, ), for example using ravel().\n",
      "  y = column_or_1d(y, warn=True)\n",
      "d:\\program files (x86)\\anaconda3\\lib\\site-packages\\sklearn\\preprocessing\\label.py:219: DataConversionWarning: A column-vector y was passed when a 1d array was expected. Please change the shape of y to (n_samples, ), for example using ravel().\n",
      "  y = column_or_1d(y, warn=True)\n",
      "d:\\program files (x86)\\anaconda3\\lib\\site-packages\\sklearn\\preprocessing\\label.py:252: DataConversionWarning: A column-vector y was passed when a 1d array was expected. Please change the shape of y to (n_samples, ), for example using ravel().\n",
      "  y = column_or_1d(y, warn=True)\n",
      "d:\\program files (x86)\\anaconda3\\lib\\site-packages\\sklearn\\preprocessing\\label.py:219: DataConversionWarning: A column-vector y was passed when a 1d array was expected. Please change the shape of y to (n_samples, ), for example using ravel().\n",
      "  y = column_or_1d(y, warn=True)\n",
      "d:\\program files (x86)\\anaconda3\\lib\\site-packages\\sklearn\\preprocessing\\label.py:252: DataConversionWarning: A column-vector y was passed when a 1d array was expected. Please change the shape of y to (n_samples, ), for example using ravel().\n",
      "  y = column_or_1d(y, warn=True)\n",
      "d:\\program files (x86)\\anaconda3\\lib\\site-packages\\sklearn\\preprocessing\\label.py:219: DataConversionWarning: A column-vector y was passed when a 1d array was expected. Please change the shape of y to (n_samples, ), for example using ravel().\n",
      "  y = column_or_1d(y, warn=True)\n",
      "d:\\program files (x86)\\anaconda3\\lib\\site-packages\\sklearn\\preprocessing\\label.py:252: DataConversionWarning: A column-vector y was passed when a 1d array was expected. Please change the shape of y to (n_samples, ), for example using ravel().\n",
      "  y = column_or_1d(y, warn=True)\n",
      "d:\\program files (x86)\\anaconda3\\lib\\site-packages\\sklearn\\preprocessing\\label.py:219: DataConversionWarning: A column-vector y was passed when a 1d array was expected. Please change the shape of y to (n_samples, ), for example using ravel().\n",
      "  y = column_or_1d(y, warn=True)\n",
      "d:\\program files (x86)\\anaconda3\\lib\\site-packages\\sklearn\\preprocessing\\label.py:252: DataConversionWarning: A column-vector y was passed when a 1d array was expected. Please change the shape of y to (n_samples, ), for example using ravel().\n",
      "  y = column_or_1d(y, warn=True)\n",
      "d:\\program files (x86)\\anaconda3\\lib\\site-packages\\sklearn\\preprocessing\\label.py:219: DataConversionWarning: A column-vector y was passed when a 1d array was expected. Please change the shape of y to (n_samples, ), for example using ravel().\n",
      "  y = column_or_1d(y, warn=True)\n",
      "d:\\program files (x86)\\anaconda3\\lib\\site-packages\\sklearn\\preprocessing\\label.py:252: DataConversionWarning: A column-vector y was passed when a 1d array was expected. Please change the shape of y to (n_samples, ), for example using ravel().\n",
      "  y = column_or_1d(y, warn=True)\n",
      "d:\\program files (x86)\\anaconda3\\lib\\site-packages\\sklearn\\preprocessing\\label.py:219: DataConversionWarning: A column-vector y was passed when a 1d array was expected. Please change the shape of y to (n_samples, ), for example using ravel().\n",
      "  y = column_or_1d(y, warn=True)\n",
      "d:\\program files (x86)\\anaconda3\\lib\\site-packages\\sklearn\\preprocessing\\label.py:252: DataConversionWarning: A column-vector y was passed when a 1d array was expected. Please change the shape of y to (n_samples, ), for example using ravel().\n",
      "  y = column_or_1d(y, warn=True)\n",
      "d:\\program files (x86)\\anaconda3\\lib\\site-packages\\sklearn\\preprocessing\\label.py:219: DataConversionWarning: A column-vector y was passed when a 1d array was expected. Please change the shape of y to (n_samples, ), for example using ravel().\n",
      "  y = column_or_1d(y, warn=True)\n",
      "d:\\program files (x86)\\anaconda3\\lib\\site-packages\\sklearn\\preprocessing\\label.py:252: DataConversionWarning: A column-vector y was passed when a 1d array was expected. Please change the shape of y to (n_samples, ), for example using ravel().\n",
      "  y = column_or_1d(y, warn=True)\n"
     ]
    },
    {
     "name": "stderr",
     "output_type": "stream",
     "text": [
      "d:\\program files (x86)\\anaconda3\\lib\\site-packages\\sklearn\\preprocessing\\label.py:219: DataConversionWarning: A column-vector y was passed when a 1d array was expected. Please change the shape of y to (n_samples, ), for example using ravel().\n",
      "  y = column_or_1d(y, warn=True)\n",
      "d:\\program files (x86)\\anaconda3\\lib\\site-packages\\sklearn\\preprocessing\\label.py:252: DataConversionWarning: A column-vector y was passed when a 1d array was expected. Please change the shape of y to (n_samples, ), for example using ravel().\n",
      "  y = column_or_1d(y, warn=True)\n",
      "d:\\program files (x86)\\anaconda3\\lib\\site-packages\\sklearn\\preprocessing\\label.py:219: DataConversionWarning: A column-vector y was passed when a 1d array was expected. Please change the shape of y to (n_samples, ), for example using ravel().\n",
      "  y = column_or_1d(y, warn=True)\n",
      "d:\\program files (x86)\\anaconda3\\lib\\site-packages\\sklearn\\preprocessing\\label.py:252: DataConversionWarning: A column-vector y was passed when a 1d array was expected. Please change the shape of y to (n_samples, ), for example using ravel().\n",
      "  y = column_or_1d(y, warn=True)\n",
      "d:\\program files (x86)\\anaconda3\\lib\\site-packages\\sklearn\\preprocessing\\label.py:219: DataConversionWarning: A column-vector y was passed when a 1d array was expected. Please change the shape of y to (n_samples, ), for example using ravel().\n",
      "  y = column_or_1d(y, warn=True)\n",
      "d:\\program files (x86)\\anaconda3\\lib\\site-packages\\sklearn\\preprocessing\\label.py:252: DataConversionWarning: A column-vector y was passed when a 1d array was expected. Please change the shape of y to (n_samples, ), for example using ravel().\n",
      "  y = column_or_1d(y, warn=True)\n",
      "d:\\program files (x86)\\anaconda3\\lib\\site-packages\\sklearn\\preprocessing\\label.py:219: DataConversionWarning: A column-vector y was passed when a 1d array was expected. Please change the shape of y to (n_samples, ), for example using ravel().\n",
      "  y = column_or_1d(y, warn=True)\n",
      "d:\\program files (x86)\\anaconda3\\lib\\site-packages\\sklearn\\preprocessing\\label.py:252: DataConversionWarning: A column-vector y was passed when a 1d array was expected. Please change the shape of y to (n_samples, ), for example using ravel().\n",
      "  y = column_or_1d(y, warn=True)\n",
      "d:\\program files (x86)\\anaconda3\\lib\\site-packages\\sklearn\\preprocessing\\label.py:219: DataConversionWarning: A column-vector y was passed when a 1d array was expected. Please change the shape of y to (n_samples, ), for example using ravel().\n",
      "  y = column_or_1d(y, warn=True)\n",
      "d:\\program files (x86)\\anaconda3\\lib\\site-packages\\sklearn\\preprocessing\\label.py:252: DataConversionWarning: A column-vector y was passed when a 1d array was expected. Please change the shape of y to (n_samples, ), for example using ravel().\n",
      "  y = column_or_1d(y, warn=True)\n",
      "d:\\program files (x86)\\anaconda3\\lib\\site-packages\\sklearn\\preprocessing\\label.py:219: DataConversionWarning: A column-vector y was passed when a 1d array was expected. Please change the shape of y to (n_samples, ), for example using ravel().\n",
      "  y = column_or_1d(y, warn=True)\n",
      "d:\\program files (x86)\\anaconda3\\lib\\site-packages\\sklearn\\preprocessing\\label.py:252: DataConversionWarning: A column-vector y was passed when a 1d array was expected. Please change the shape of y to (n_samples, ), for example using ravel().\n",
      "  y = column_or_1d(y, warn=True)\n",
      "d:\\program files (x86)\\anaconda3\\lib\\site-packages\\sklearn\\preprocessing\\label.py:219: DataConversionWarning: A column-vector y was passed when a 1d array was expected. Please change the shape of y to (n_samples, ), for example using ravel().\n",
      "  y = column_or_1d(y, warn=True)\n",
      "d:\\program files (x86)\\anaconda3\\lib\\site-packages\\sklearn\\preprocessing\\label.py:252: DataConversionWarning: A column-vector y was passed when a 1d array was expected. Please change the shape of y to (n_samples, ), for example using ravel().\n",
      "  y = column_or_1d(y, warn=True)\n",
      "d:\\program files (x86)\\anaconda3\\lib\\site-packages\\sklearn\\preprocessing\\label.py:219: DataConversionWarning: A column-vector y was passed when a 1d array was expected. Please change the shape of y to (n_samples, ), for example using ravel().\n",
      "  y = column_or_1d(y, warn=True)\n",
      "d:\\program files (x86)\\anaconda3\\lib\\site-packages\\sklearn\\preprocessing\\label.py:252: DataConversionWarning: A column-vector y was passed when a 1d array was expected. Please change the shape of y to (n_samples, ), for example using ravel().\n",
      "  y = column_or_1d(y, warn=True)\n",
      "d:\\program files (x86)\\anaconda3\\lib\\site-packages\\sklearn\\preprocessing\\label.py:219: DataConversionWarning: A column-vector y was passed when a 1d array was expected. Please change the shape of y to (n_samples, ), for example using ravel().\n",
      "  y = column_or_1d(y, warn=True)\n",
      "d:\\program files (x86)\\anaconda3\\lib\\site-packages\\sklearn\\preprocessing\\label.py:252: DataConversionWarning: A column-vector y was passed when a 1d array was expected. Please change the shape of y to (n_samples, ), for example using ravel().\n",
      "  y = column_or_1d(y, warn=True)\n",
      "d:\\program files (x86)\\anaconda3\\lib\\site-packages\\sklearn\\preprocessing\\label.py:219: DataConversionWarning: A column-vector y was passed when a 1d array was expected. Please change the shape of y to (n_samples, ), for example using ravel().\n",
      "  y = column_or_1d(y, warn=True)\n",
      "d:\\program files (x86)\\anaconda3\\lib\\site-packages\\sklearn\\preprocessing\\label.py:252: DataConversionWarning: A column-vector y was passed when a 1d array was expected. Please change the shape of y to (n_samples, ), for example using ravel().\n",
      "  y = column_or_1d(y, warn=True)\n",
      "d:\\program files (x86)\\anaconda3\\lib\\site-packages\\sklearn\\preprocessing\\label.py:219: DataConversionWarning: A column-vector y was passed when a 1d array was expected. Please change the shape of y to (n_samples, ), for example using ravel().\n",
      "  y = column_or_1d(y, warn=True)\n",
      "d:\\program files (x86)\\anaconda3\\lib\\site-packages\\sklearn\\preprocessing\\label.py:252: DataConversionWarning: A column-vector y was passed when a 1d array was expected. Please change the shape of y to (n_samples, ), for example using ravel().\n",
      "  y = column_or_1d(y, warn=True)\n",
      "d:\\program files (x86)\\anaconda3\\lib\\site-packages\\sklearn\\preprocessing\\label.py:219: DataConversionWarning: A column-vector y was passed when a 1d array was expected. Please change the shape of y to (n_samples, ), for example using ravel().\n",
      "  y = column_or_1d(y, warn=True)\n",
      "d:\\program files (x86)\\anaconda3\\lib\\site-packages\\sklearn\\preprocessing\\label.py:252: DataConversionWarning: A column-vector y was passed when a 1d array was expected. Please change the shape of y to (n_samples, ), for example using ravel().\n",
      "  y = column_or_1d(y, warn=True)\n",
      "d:\\program files (x86)\\anaconda3\\lib\\site-packages\\sklearn\\preprocessing\\label.py:219: DataConversionWarning: A column-vector y was passed when a 1d array was expected. Please change the shape of y to (n_samples, ), for example using ravel().\n",
      "  y = column_or_1d(y, warn=True)\n",
      "d:\\program files (x86)\\anaconda3\\lib\\site-packages\\sklearn\\preprocessing\\label.py:252: DataConversionWarning: A column-vector y was passed when a 1d array was expected. Please change the shape of y to (n_samples, ), for example using ravel().\n",
      "  y = column_or_1d(y, warn=True)\n",
      "d:\\program files (x86)\\anaconda3\\lib\\site-packages\\sklearn\\preprocessing\\label.py:219: DataConversionWarning: A column-vector y was passed when a 1d array was expected. Please change the shape of y to (n_samples, ), for example using ravel().\n",
      "  y = column_or_1d(y, warn=True)\n",
      "d:\\program files (x86)\\anaconda3\\lib\\site-packages\\sklearn\\preprocessing\\label.py:252: DataConversionWarning: A column-vector y was passed when a 1d array was expected. Please change the shape of y to (n_samples, ), for example using ravel().\n",
      "  y = column_or_1d(y, warn=True)\n",
      "d:\\program files (x86)\\anaconda3\\lib\\site-packages\\sklearn\\preprocessing\\label.py:219: DataConversionWarning: A column-vector y was passed when a 1d array was expected. Please change the shape of y to (n_samples, ), for example using ravel().\n",
      "  y = column_or_1d(y, warn=True)\n",
      "d:\\program files (x86)\\anaconda3\\lib\\site-packages\\sklearn\\preprocessing\\label.py:252: DataConversionWarning: A column-vector y was passed when a 1d array was expected. Please change the shape of y to (n_samples, ), for example using ravel().\n",
      "  y = column_or_1d(y, warn=True)\n"
     ]
    },
    {
     "name": "stderr",
     "output_type": "stream",
     "text": [
      "d:\\program files (x86)\\anaconda3\\lib\\site-packages\\sklearn\\preprocessing\\label.py:219: DataConversionWarning: A column-vector y was passed when a 1d array was expected. Please change the shape of y to (n_samples, ), for example using ravel().\n",
      "  y = column_or_1d(y, warn=True)\n",
      "d:\\program files (x86)\\anaconda3\\lib\\site-packages\\sklearn\\preprocessing\\label.py:252: DataConversionWarning: A column-vector y was passed when a 1d array was expected. Please change the shape of y to (n_samples, ), for example using ravel().\n",
      "  y = column_or_1d(y, warn=True)\n",
      "d:\\program files (x86)\\anaconda3\\lib\\site-packages\\sklearn\\preprocessing\\label.py:219: DataConversionWarning: A column-vector y was passed when a 1d array was expected. Please change the shape of y to (n_samples, ), for example using ravel().\n",
      "  y = column_or_1d(y, warn=True)\n",
      "d:\\program files (x86)\\anaconda3\\lib\\site-packages\\sklearn\\preprocessing\\label.py:252: DataConversionWarning: A column-vector y was passed when a 1d array was expected. Please change the shape of y to (n_samples, ), for example using ravel().\n",
      "  y = column_or_1d(y, warn=True)\n",
      "d:\\program files (x86)\\anaconda3\\lib\\site-packages\\sklearn\\preprocessing\\label.py:219: DataConversionWarning: A column-vector y was passed when a 1d array was expected. Please change the shape of y to (n_samples, ), for example using ravel().\n",
      "  y = column_or_1d(y, warn=True)\n",
      "d:\\program files (x86)\\anaconda3\\lib\\site-packages\\sklearn\\preprocessing\\label.py:252: DataConversionWarning: A column-vector y was passed when a 1d array was expected. Please change the shape of y to (n_samples, ), for example using ravel().\n",
      "  y = column_or_1d(y, warn=True)\n",
      "d:\\program files (x86)\\anaconda3\\lib\\site-packages\\sklearn\\preprocessing\\label.py:219: DataConversionWarning: A column-vector y was passed when a 1d array was expected. Please change the shape of y to (n_samples, ), for example using ravel().\n",
      "  y = column_or_1d(y, warn=True)\n",
      "d:\\program files (x86)\\anaconda3\\lib\\site-packages\\sklearn\\preprocessing\\label.py:252: DataConversionWarning: A column-vector y was passed when a 1d array was expected. Please change the shape of y to (n_samples, ), for example using ravel().\n",
      "  y = column_or_1d(y, warn=True)\n",
      "d:\\program files (x86)\\anaconda3\\lib\\site-packages\\sklearn\\preprocessing\\label.py:219: DataConversionWarning: A column-vector y was passed when a 1d array was expected. Please change the shape of y to (n_samples, ), for example using ravel().\n",
      "  y = column_or_1d(y, warn=True)\n",
      "d:\\program files (x86)\\anaconda3\\lib\\site-packages\\sklearn\\preprocessing\\label.py:252: DataConversionWarning: A column-vector y was passed when a 1d array was expected. Please change the shape of y to (n_samples, ), for example using ravel().\n",
      "  y = column_or_1d(y, warn=True)\n",
      "[Parallel(n_jobs=1)]: Done  50 out of  50 | elapsed:  3.7min finished\n",
      "d:\\program files (x86)\\anaconda3\\lib\\site-packages\\sklearn\\preprocessing\\label.py:219: DataConversionWarning: A column-vector y was passed when a 1d array was expected. Please change the shape of y to (n_samples, ), for example using ravel().\n",
      "  y = column_or_1d(y, warn=True)\n",
      "d:\\program files (x86)\\anaconda3\\lib\\site-packages\\sklearn\\preprocessing\\label.py:252: DataConversionWarning: A column-vector y was passed when a 1d array was expected. Please change the shape of y to (n_samples, ), for example using ravel().\n",
      "  y = column_or_1d(y, warn=True)\n"
     ]
    },
    {
     "name": "stdout",
     "output_type": "stream",
     "text": [
      "224.86769139999979\n"
     ]
    },
    {
     "data": {
      "text/plain": [
       "(<bound method BaseSearchCV.score of RandomizedSearchCV(cv=5, error_score='raise-deprecating',\n",
       "           estimator=LGBMClassifier(bagging_fraction=0.8, bagging_freq=5, boosting_type='gbdt',\n",
       "         class_weight=None, colsample_bytree=1.0, importance_type='split',\n",
       "         learning_rate=0.1, max_depth=6, metric='binary_logloss',\n",
       "         min_child_samples=20, min_child_weight=0.001, min_split_gain=0.0,\n",
       "   ...0.0, reg_lambda=0.0, silent=True,\n",
       "         subsample=1.0, subsample_for_bin=200000, subsample_freq=0),\n",
       "           fit_params=None, iid='warn', n_iter=10, n_jobs=None,\n",
       "           param_distributions={'n_estimators': [59], 'learning_rate': array([0.01, 0.02, 0.03, 0.04, 0.05, 0.06, 0.07, 0.08, 0.09]), 'min_child_weight': [0.01060414979163009], 'min_child_samples': [18, 19, 20, 21, 22], 'max_depth': range(3, 8), 'num_leaves': range(8, 248, 20), 'bagging_fraction': [0.6, 0.7, 0.8, 0.9, 1.0], 'bagging_freq': [5], 'reg_alpha': array([0. , 0.5, 1. , 1.5, 2. , 2.5, 3. , 3.5]), 'reg_lambda': array([0. , 0.5, 1. , 1.5, 2. , 2.5, 3. , 3.5])},\n",
       "           pre_dispatch='2*n_jobs', random_state=None, refit=True,\n",
       "           return_train_score='warn', scoring='roc_auc', verbose=1)>,\n",
       " {'bagging_fraction': 0.9,\n",
       "  'bagging_freq': 5,\n",
       "  'learning_rate': 0.06999999999999999,\n",
       "  'max_depth': 5,\n",
       "  'min_child_samples': 18,\n",
       "  'min_child_weight': 0.01060414979163009,\n",
       "  'n_estimators': 59,\n",
       "  'num_leaves': 188,\n",
       "  'reg_alpha': 3.5,\n",
       "  'reg_lambda': 2.0},\n",
       " 0.7808918792638343)"
      ]
     },
     "execution_count": 36,
     "metadata": {},
     "output_type": "execute_result"
    }
   ],
   "source": [
    "mcw=1/pow(y_train1.sum()[0],0.5)\n",
    "model_lgb = lgb.LGBMClassifier(objective='binary'\n",
    "                            ,num_leaves=50\n",
    "                            ,learning_rate=0.1\n",
    "                            ,n_estimators=best_n_estimators_list[1]\n",
    "                            ,max_depth=6\n",
    "                            ,metric='binary_logloss'\n",
    "                            ,bagging_fraction = 0.8\n",
    "                            ,bagging_freq = 5\n",
    "                            ,n_jobs=8\n",
    "                            #,feature_fraction = 0.8\n",
    "                            )\n",
    "params_test1={\n",
    "    'n_estimators':[best_n_estimators_list[2]]\n",
    "    ,'learning_rate':np.arange(0.01,0.1,0.01)\n",
    "    ,'min_child_weight':[mcw]\n",
    "    ,'min_child_samples': [18, 19, 20, 21, 22]\n",
    "    ,'max_depth': range(3,8,1)\n",
    "    ,'num_leaves':range(8, 248, 20)\n",
    "    ,'bagging_fraction': [0.6, 0.7, 0.8, 0.9, 1.0]\n",
    "    ,'bagging_freq':[5]\n",
    "    ,'reg_alpha':np.arange(0,4,0.5)\n",
    "    ,'reg_lambda':np.arange(0,4,0.5)\n",
    "}\n",
    "clf = RandomizedSearchCV(estimator=model_lgb, \n",
    "                              param_distributions=params_test1, \n",
    "                              scoring='roc_auc', \n",
    "                              cv=5,\n",
    "                              n_iter=10,\n",
    "                              verbose=1\n",
    "                              )\n",
    "begintime=time.clock()\n",
    "clf.fit(model3_train1, y_train1)\n",
    "endtime=time.clock()\n",
    "print (endtime-begintime)\n",
    "clf.score, clf.best_params_, clf.best_score_#根据设置的测试参数，计算出最优模型参数"
   ]
  },
  {
   "cell_type": "code",
   "execution_count": 37,
   "metadata": {},
   "outputs": [
    {
     "name": "stderr",
     "output_type": "stream",
     "text": [
      "d:\\program files (x86)\\anaconda3\\lib\\site-packages\\lightgbm\\engine.py:118: UserWarning: Found `n_estimators` in params. Will use it instead of argument\n",
      "  warnings.warn(\"Found `{}` in params. Will use it instead of argument\".format(alias))\n"
     ]
    },
    {
     "data": {
      "text/plain": [
       "<lightgbm.basic.Booster at 0x26c898ad128>"
      ]
     },
     "execution_count": 37,
     "metadata": {},
     "output_type": "execute_result"
    }
   ],
   "source": [
    "lgb_model3_param = clf.best_params_\n",
    "savemodel=lgb.train(lgb_model3_param,lgb_model3_train1)\n",
    "savemodel.save_model(model_savepath+'lgb_model3_blending')"
   ]
  },
  {
   "cell_type": "code",
   "execution_count": 3,
   "metadata": {},
   "outputs": [],
   "source": [
    "bst1 = lgb.Booster(model_file=model_savepath+'lgb_model1_blending')\n",
    "bst2 = lgb.Booster(model_file=model_savepath+'lgb_model2_blending')\n",
    "bst3 = lgb.Booster(model_file=model_savepath+'lgb_model3_blending')"
   ]
  },
  {
   "cell_type": "code",
   "execution_count": 5,
   "metadata": {},
   "outputs": [],
   "source": [
    "#设置上层模型训练集\n",
    "model1_test2 = df2.loc[:,model1_feature]\n",
    "model2_test2 = df2.loc[:,model2_feature]\n",
    "model3_test2 = df2.loc[:,model3_feature]"
   ]
  },
  {
   "cell_type": "code",
   "execution_count": 6,
   "metadata": {},
   "outputs": [],
   "source": [
    "model1_pre = bst1.predict(model1_test2, num_iteration=bst1.best_iteration)\n",
    "model2_pre = bst2.predict(model2_test2, num_iteration=bst2.best_iteration)\n",
    "model3_pre = bst3.predict(model3_test2, num_iteration=bst3.best_iteration)"
   ]
  },
  {
   "cell_type": "code",
   "execution_count": 7,
   "metadata": {},
   "outputs": [],
   "source": [
    "model_upper_df = pd.DataFrame(df2['label'])\n",
    "model_upper_df['feature1'] = model1_pre\n",
    "model_upper_df['feature2'] = model2_pre\n",
    "model_upper_df['feature3'] = model3_pre\n",
    "model_upper_feature = ['feature1','feature2','feature3']\n",
    "model_upper_train = model_upper_df.loc[:,model_upper_feature]\n",
    "model_upper_label = model_upper_df['label']"
   ]
  },
  {
   "cell_type": "code",
   "execution_count": 8,
   "metadata": {},
   "outputs": [],
   "source": [
    "lgb_model_upper_train = lgb.Dataset(model_upper_train, model_upper_label, silent=True)"
   ]
  },
  {
   "cell_type": "code",
   "execution_count": 89,
   "metadata": {},
   "outputs": [
    {
     "name": "stdout",
     "output_type": "stream",
     "text": [
      "[50]\tcv_agg's auc: 0.901235 + 0.0369728\n",
      "best_n_estimators: 1\n",
      "best_cv_score: 0.9488706686763493\n",
      "Fitting 5 folds for each of 10 candidates, totalling 50 fits\n"
     ]
    },
    {
     "name": "stderr",
     "output_type": "stream",
     "text": [
      "[Parallel(n_jobs=1)]: Using backend SequentialBackend with 1 concurrent workers.\n",
      "[Parallel(n_jobs=1)]: Done  50 out of  50 | elapsed:   31.5s finished\n"
     ]
    },
    {
     "name": "stdout",
     "output_type": "stream",
     "text": [
      "32.0169292999999\n"
     ]
    },
    {
     "data": {
      "text/plain": [
       "(<bound method BaseSearchCV.score of RandomizedSearchCV(cv=5, error_score='raise-deprecating',\n",
       "           estimator=LGBMClassifier(bagging_fraction=0.8, bagging_freq=5, boosting_type='gbdt',\n",
       "         class_weight=None, colsample_bytree=1.0, importance_type='split',\n",
       "         learning_rate=0.1, max_depth=6, metric='binary_logloss',\n",
       "         min_child_samples=20, min_child_weight=0.001, min_split_gain=0.0,\n",
       "   ...0.0, reg_lambda=0.0, silent=True,\n",
       "         subsample=1.0, subsample_for_bin=200000, subsample_freq=0),\n",
       "           fit_params=None, iid='warn', n_iter=10, n_jobs=None,\n",
       "           param_distributions={'n_estimators': [1], 'learning_rate': array([0.01, 0.02, 0.03, 0.04, 0.05, 0.06, 0.07, 0.08, 0.09]), 'min_child_weight': [0.01060414979163009], 'min_child_samples': [18, 19, 20, 21, 22], 'max_depth': range(3, 8), 'num_leaves': range(8, 248, 20), 'bagging_fraction': [0.6, 0.7, 0.8, 0.9, 1.0], 'bagging_freq': [5], 'reg_alpha': array([0. , 0.5, 1. , 1.5, 2. , 2.5, 3. , 3.5]), 'reg_lambda': array([0. , 0.5, 1. , 1.5, 2. , 2.5, 3. , 3.5])},\n",
       "           pre_dispatch='2*n_jobs', random_state=None, refit=True,\n",
       "           return_train_score='warn', scoring='roc_auc', verbose=1)>,\n",
       " {'bagging_fraction': 0.9,\n",
       "  'bagging_freq': 5,\n",
       "  'learning_rate': 0.06999999999999999,\n",
       "  'max_depth': 6,\n",
       "  'min_child_samples': 19,\n",
       "  'min_child_weight': 0.01060414979163009,\n",
       "  'n_estimators': 1,\n",
       "  'num_leaves': 128,\n",
       "  'reg_alpha': 0.0,\n",
       "  'reg_lambda': 3.0},\n",
       " 0.9534180732853514)"
      ]
     },
     "execution_count": 89,
     "metadata": {},
     "output_type": "execute_result"
    }
   ],
   "source": [
    "cv_results = lgb.cv(\n",
    "        cv_params,lgb_model_upper_train, num_boost_round=2000, nfold=5, stratified=True, shuffle=True, metrics='auc',\n",
    "        early_stopping_rounds=50, verbose_eval=50, show_stdv=True, seed=0)\n",
    "print('best_n_estimators:', len(cv_results['auc-mean']))\n",
    "print('best_cv_score:', cv_results['auc-mean'][-1])\n",
    "model_upper = lgb.LGBMClassifier(objective='binary'\n",
    "                            ,num_leaves=50\n",
    "                            ,learning_rate=0.1\n",
    "                            ,n_estimators=len(cv_results['auc-mean'])\n",
    "                            ,max_depth=6\n",
    "                            ,metric='binary_logloss'\n",
    "                            ,bagging_fraction = 0.8\n",
    "                            ,bagging_freq = 5\n",
    "                            ,n_jobs=8\n",
    "                            #,feature_fraction = 0.8\n",
    "                            )\n",
    "params_test1={\n",
    "    'n_estimators':[len(cv_results['auc-mean'])]\n",
    "    ,'learning_rate':np.arange(0.01,0.1,0.01)\n",
    "    ,'min_child_weight':[mcw]\n",
    "    ,'min_child_samples': [18, 19, 20, 21, 22]\n",
    "    ,'max_depth': range(3,8,1)\n",
    "    ,'num_leaves':range(8, 248, 20)\n",
    "    ,'bagging_fraction': [0.6, 0.7, 0.8, 0.9, 1.0]\n",
    "    ,'bagging_freq':[5]\n",
    "    ,'reg_alpha':np.arange(0,4,0.5)\n",
    "    ,'reg_lambda':np.arange(0,4,0.5)\n",
    "}\n",
    "clf = RandomizedSearchCV(estimator=model_lgb, \n",
    "                              param_distributions=params_test1, \n",
    "                              scoring='roc_auc', \n",
    "                              cv=5,\n",
    "                              n_iter=10,\n",
    "                              verbose=1\n",
    "                              )\n",
    "begintime=time.clock()\n",
    "clf.fit(model_upper_train,model_upper_label)\n",
    "endtime=time.clock()\n",
    "print (endtime-begintime)\n",
    "clf.score, clf.best_params_, clf.best_score_#根据设置的测试参数，计算出最优模型参数"
   ]
  },
  {
   "cell_type": "code",
   "execution_count": 7,
   "metadata": {},
   "outputs": [
    {
     "ename": "NameError",
     "evalue": "name 'clf' is not defined",
     "output_type": "error",
     "traceback": [
      "\u001b[1;31m---------------------------------------------------------------------------\u001b[0m",
      "\u001b[1;31mNameError\u001b[0m                                 Traceback (most recent call last)",
      "\u001b[1;32m<ipython-input-7-99db277b8567>\u001b[0m in \u001b[0;36m<module>\u001b[1;34m()\u001b[0m\n\u001b[1;32m----> 1\u001b[1;33m \u001b[0mupper_model1_param\u001b[0m \u001b[1;33m=\u001b[0m \u001b[0mclf\u001b[0m\u001b[1;33m.\u001b[0m\u001b[0mbest_params_\u001b[0m\u001b[1;33m\u001b[0m\u001b[0m\n\u001b[0m\u001b[0;32m      2\u001b[0m \u001b[0msavemodel\u001b[0m\u001b[1;33m=\u001b[0m\u001b[0mlgb\u001b[0m\u001b[1;33m.\u001b[0m\u001b[0mtrain\u001b[0m\u001b[1;33m(\u001b[0m\u001b[0mupper_model1_param\u001b[0m\u001b[1;33m,\u001b[0m\u001b[0mlgb_model_upper_train\u001b[0m\u001b[1;33m)\u001b[0m\u001b[1;33m\u001b[0m\u001b[0m\n\u001b[0;32m      3\u001b[0m \u001b[0msavemodel\u001b[0m\u001b[1;33m.\u001b[0m\u001b[0msave_model\u001b[0m\u001b[1;33m(\u001b[0m\u001b[0mmodel_savepath\u001b[0m\u001b[1;33m+\u001b[0m\u001b[1;34m'lgb_model_upper_blending'\u001b[0m\u001b[1;33m)\u001b[0m\u001b[1;33m\u001b[0m\u001b[0m\n",
      "\u001b[1;31mNameError\u001b[0m: name 'clf' is not defined"
     ]
    }
   ],
   "source": [
    "upper_model1_param = clf.best_params_\n",
    "savemodel=lgb.train(upper_model1_param,lgb_model_upper_train)\n",
    "savemodel.save_model(model_savepath+'lgb_model_upper_blending')"
   ]
  },
  {
   "cell_type": "code",
   "execution_count": 9,
   "metadata": {},
   "outputs": [],
   "source": [
    "bst_upper = lgb.Booster(model_file=model_savepath+'lgb_model_upper_blending')"
   ]
  },
  {
   "cell_type": "code",
   "execution_count": 10,
   "metadata": {},
   "outputs": [],
   "source": [
    "#设置验证集\n",
    "model1_test3 = df3.loc[:,model1_feature]\n",
    "model2_test3 = df3.loc[:,model2_feature]\n",
    "model3_test3 = df3.loc[:,model3_feature]\n",
    "model1_pre2 = bst1.predict(model1_test3, num_iteration=bst1.best_iteration)\n",
    "model2_pre2 = bst2.predict(model2_test3, num_iteration=bst2.best_iteration)\n",
    "model3_pre2 = bst3.predict(model3_test3, num_iteration=bst3.best_iteration)"
   ]
  },
  {
   "cell_type": "code",
   "execution_count": 11,
   "metadata": {},
   "outputs": [],
   "source": [
    "model_upper_df1 = pd.DataFrame()\n",
    "model_upper_df1['feature1'] = model1_pre2\n",
    "model_upper_df1['feature2'] = model2_pre2\n",
    "model_upper_df1['feature3'] = model3_pre2\n",
    "model_upper_feature = ['feature1','feature2','feature3']\n",
    "model_upper_test = model_upper_df1.loc[:,model_upper_feature]"
   ]
  },
  {
   "cell_type": "code",
   "execution_count": 12,
   "metadata": {},
   "outputs": [],
   "source": [
    "upper_model_pre = bst_upper.predict(model_upper_test, num_iteration=bst3.best_iteration)"
   ]
  },
  {
   "cell_type": "code",
   "execution_count": 13,
   "metadata": {},
   "outputs": [
    {
     "name": "stderr",
     "output_type": "stream",
     "text": [
      "d:\\program files (x86)\\anaconda3\\lib\\site-packages\\ipykernel_launcher.py:10: DeprecationWarning: \n",
      ".ix is deprecated. Please use\n",
      ".loc for label based indexing or\n",
      ".iloc for positional indexing\n",
      "\n",
      "See the documentation here:\n",
      "http://pandas.pydata.org/pandas-docs/stable/indexing.html#ix-indexer-is-deprecated\n",
      "  # Remove the CWD from sys.path while we load stuff.\n",
      "d:\\program files (x86)\\anaconda3\\lib\\site-packages\\pandas\\core\\indexing.py:194: SettingWithCopyWarning: \n",
      "A value is trying to be set on a copy of a slice from a DataFrame\n",
      "\n",
      "See the caveats in the documentation: http://pandas.pydata.org/pandas-docs/stable/indexing.html#indexing-view-versus-copy\n",
      "  self._setitem_with_indexer(indexer, value)\n"
     ]
    }
   ],
   "source": [
    "df_result = pd.DataFrame(upper_model_pre)\n",
    "estimator = KMeans(n_clusters=10)\n",
    "estimator.fit(df_result)\n",
    "label_pred = estimator.labels_ #获取聚类标签\n",
    "centroids = estimator.cluster_centers_ #获取聚类中心\n",
    "df_result['Kmeans'] = label_pred\n",
    "df_result1 = pd.DataFrame(df_result)\n",
    "#根据预测概率，从高到低改变聚类标签\n",
    "for i in range(10):\n",
    "    df_result1['Kmeans'].ix[df_result1['Kmeans'] ==i]=str(sorted(centroids).index(centroids[i]))+\"星\""
   ]
  },
  {
   "cell_type": "code",
   "execution_count": 14,
   "metadata": {},
   "outputs": [],
   "source": [
    "#df3['label'].to_csv('./blending_test.csv')\n",
    "result_file_path = result_path+\"result_blending_4.xlsx\"\n",
    "df_result1.to_excel(result_file_path)"
   ]
  }
 ],
 "metadata": {
  "kernelspec": {
   "display_name": "Python 3",
   "language": "python",
   "name": "python3"
  },
  "language_info": {
   "codemirror_mode": {
    "name": "ipython",
    "version": 3
   },
   "file_extension": ".py",
   "mimetype": "text/x-python",
   "name": "python",
   "nbconvert_exporter": "python",
   "pygments_lexer": "ipython3",
   "version": "3.6.4"
  }
 },
 "nbformat": 4,
 "nbformat_minor": 2
}
