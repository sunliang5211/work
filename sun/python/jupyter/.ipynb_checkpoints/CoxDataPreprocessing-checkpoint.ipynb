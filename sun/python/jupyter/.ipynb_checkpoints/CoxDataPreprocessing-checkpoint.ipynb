{
 "cells": [
  {
   "cell_type": "code",
   "execution_count": null,
   "metadata": {},
   "outputs": [],
   "source": [
    "import pandas as pd"
   ]
  },
  {
   "cell_type": "code",
   "execution_count": null,
   "metadata": {},
   "outputs": [],
   "source": [
    "dataZaiwang = pd.read_csv(\"D:\\data\\sun\\survival\\zaiwang_user.csv\", sep=',',engine = 'python',iterator=True)\n",
    "dataLiwang = pd.read_csv(\"D:\\data\\sun\\survival\\liwang_user.csv\")"
   ]
  },
  {
   "cell_type": "code",
   "execution_count": null,
   "metadata": {},
   "outputs": [],
   "source": [
    "lenOfTrain = int(len(dataLiwang)*0.6)\n",
    "chunkSize = lenOfTrain + 1000 * 100\n",
    "dataZaiwang = dataZaiwang.get_chunk(chunkSize)\n",
    "\n",
    "dataZaiwang['death'] = 0\n",
    "dataLiwang['death'] = 1\n",
    "\n",
    "data_merge = pd.concat([dataLiwang, dataZaiwang])\n",
    "print(len(data_merge))"
   ]
  },
  {
   "cell_type": "code",
   "execution_count": null,
   "metadata": {},
   "outputs": [],
   "source": [
    "# 删除空列\n",
    "emptyList = [\"L0004\", \"L0045\", \"L0046\", \"L0047\", \"L0048\", \"L0056\", \"L0057\", \"L0058\", \"L0059\", \"L0060\", \"L0065\", \"L0066\",\n",
    "             \"L0067\", \"L0068\"]\n",
    "for a in emptyList:\n",
    "    del data_merge[a]\n",
    "    \n",
    "# 把\"-\"替换为\"-1\"，把空值赋值为0\n",
    "titleList = data_merge.columns.values.tolist()\n",
    "for a in titleList:\n",
    "    data_merge.ix[data_merge[a] == \"-\", a] = \"-1\"\n",
    "    data_merge[a] = data_merge[a].fillna(0)"
   ]
  },
  {
   "cell_type": "code",
   "execution_count": null,
   "metadata": {},
   "outputs": [],
   "source": [
    "# #显示所有列\n",
    "pd.set_option('display.max_columns', None)\n",
    "\n",
    "print(len(data_merge))\n",
    "print(data_merge.head())"
   ]
  },
  {
   "cell_type": "code",
   "execution_count": null,
   "metadata": {},
   "outputs": [],
   "source": [
    "dataLiwangTrain = data_merge.loc[data_merge['death'] == 1].head(lenOfTrain)\n",
    "plus1000 = lenOfTrain+1000\n",
    "dataLiwangTest = data_merge.loc[data_merge['death'] == 1][lenOfTrain:plus1000]\n",
    "print(dataLiwangTest)\n",
    "\n",
    "dataZaiwangTrain = data_merge.loc[data_merge['death'] == 0].head(lenOfTrain)\n",
    "dataZaiwangTest = data_merge.loc[data_merge['death'] == 0][lenOfTrain:]\n",
    "\n",
    "dataTrain = pd.concat([dataLiwangTrain, dataZaiwangTrain])\n",
    "dataTest = pd.concat([dataLiwangTest, dataZaiwangTest])\n",
    "\n",
    "print(len(dataTrain))"
   ]
  },
  {
   "cell_type": "code",
   "execution_count": null,
   "metadata": {},
   "outputs": [],
   "source": [
    "dataTrain.to_csv(\"D:\\data\\sun\\survival\\\\aa.csv\")\n",
    "dataTest.to_csv(\"D:\\data\\sun\\survival\\\\bb.csv\")\n",
    "\n",
    "data1 = pd.read_csv(\"D:\\data\\sun\\survival\\\\aa.csv\")\n",
    "data2 = pd.read_csv(\"D:\\data\\sun\\survival\\\\bb.csv\")\n",
    "del data1[\"Unnamed: 0\"]\n",
    "del data2[\"Unnamed: 0\"]\n",
    "print(data1.head())\n",
    "\n",
    "for indexs in data1.index:\n",
    "    # print(data.loc[indexs].values[0:-1])\n",
    "    # count0 = 0\n",
    "    flag = 0\n",
    "\n",
    "    for item in data1.loc[indexs].values[6:7]:\n",
    "        # if item == 0:\n",
    "        #     count0 = count0 + 1\n",
    "        if item == 0:\n",
    "            flag = 1\n",
    "    if flag == 1:\n",
    "        data1.drop([indexs], inplace=True)\n",
    "\n",
    "print(data2.head())\n",
    "\n",
    "for indexs in data2.index:\n",
    "    # print(data.loc[indexs].values[0:-1])\n",
    "    # count0 = 0\n",
    "    flag = 0\n",
    "\n",
    "    for item in data2.loc[indexs].values[6:7]:\n",
    "        # if item == 0:\n",
    "        #     count0 = count0 + 1\n",
    "        if item == 0:\n",
    "            flag = 1\n",
    "    if flag == 1:\n",
    "        data2.drop([indexs], inplace=True)\n",
    "\n",
    "# data2 = data[data['L0008'].isin([0])]\n",
    "# print(data2)\n",
    "\n",
    "# print(data.loc[data['L0008'] == 0].values[0])\n",
    "data1.to_csv(\"D:\\data\\sun\\survival\\\\train.csv\")\n",
    "data2.to_csv(\"D:\\data\\sun\\survival\\\\test.csv\")\n"
   ]
  }
 ],
 "metadata": {
  "kernelspec": {
   "display_name": "Python 3",
   "language": "python",
   "name": "python3"
  },
  "language_info": {
   "codemirror_mode": {
    "name": "ipython",
    "version": 3
   },
   "file_extension": ".py",
   "mimetype": "text/x-python",
   "name": "python",
   "nbconvert_exporter": "python",
   "pygments_lexer": "ipython3",
   "version": "3.6.8"
  }
 },
 "nbformat": 4,
 "nbformat_minor": 2
}
