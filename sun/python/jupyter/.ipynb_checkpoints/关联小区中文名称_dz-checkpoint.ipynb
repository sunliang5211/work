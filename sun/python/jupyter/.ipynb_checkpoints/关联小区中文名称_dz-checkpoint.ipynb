{
 "cells": [
  {
   "cell_type": "code",
   "execution_count": 3,
   "metadata": {},
   "outputs": [],
   "source": [
    "import pandas as pd\n",
    "import numpy as np"
   ]
  },
  {
   "cell_type": "code",
   "execution_count": 4,
   "metadata": {},
   "outputs": [],
   "source": [
    "xqdf = pd.read_csv('D:/data/sun/asocciatexqname/HIGH_VALUE_XQ.csv',index_col = False,encoding='gb18030')\n",
    "usrdf = pd.read_csv('D:/data/sun/asocciatexqname/user_num.csv')\n",
    "use_col =['xq_code','city_name','county_name','xq_name','usr_count']"
   ]
  },
  {
   "cell_type": "code",
   "execution_count": 5,
   "metadata": {},
   "outputs": [],
   "source": [
    "df = pd.merge(usrdf,xqdf,on='xq_code')\n",
    "df = df[use_col]"
   ]
  },
  {
   "cell_type": "code",
   "execution_count": 6,
   "metadata": {},
   "outputs": [],
   "source": [
    "df.to_csv('D:/data/sun/asocciatexqname/user_num_final.csv',encoding='gb18030')"
   ]
  }
 ],
 "metadata": {
  "kernelspec": {
   "display_name": "Python 3",
   "language": "python",
   "name": "python3"
  },
  "language_info": {
   "codemirror_mode": {
    "name": "ipython",
    "version": 3
   },
   "file_extension": ".py",
   "mimetype": "text/x-python",
   "name": "python",
   "nbconvert_exporter": "python",
   "pygments_lexer": "ipython3",
   "version": "3.6.8"
  }
 },
 "nbformat": 4,
 "nbformat_minor": 2
}
