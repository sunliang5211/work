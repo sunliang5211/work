{
 "cells": [
  {
   "cell_type": "code",
   "execution_count": 9,
   "metadata": {},
   "outputs": [],
   "source": [
    "import pandas as pd\n",
    "import numpy as np"
   ]
  },
  {
   "cell_type": "code",
   "execution_count": 10,
   "metadata": {},
   "outputs": [],
   "source": [
    "df1 = pd.read_csv('D:/data/sun/asocciatexqname/location_final.csv')\n",
    "df2 = pd.read_csv('D:/data/sun/asocciatexqname/HIGH_VALUE_XQ.csv',index_col = False,encoding='gb18030')\n",
    "\n",
    "df1['xq_code'] = df1['xq_code'].apply(str)\n",
    "df2['xq_code'] = df1['xq_code'].apply(str)\n"
   ]
  },
  {
   "cell_type": "code",
   "execution_count": 11,
   "metadata": {},
   "outputs": [],
   "source": [
    "df = pd.merge(df1, df2, on='xq_code').loc[:,['xq_code','city_name','county_name','xq_name','usr_count']]"
   ]
  },
  {
   "cell_type": "code",
   "execution_count": 12,
   "metadata": {},
   "outputs": [],
   "source": [
    "df.to_csv('D:/data/sun/asocciatexqname/user_num_new1.csv',encoding='gb18030')"
   ]
  }
 ],
 "metadata": {
  "kernelspec": {
   "display_name": "Python 3",
   "language": "python",
   "name": "python3"
  },
  "language_info": {
   "codemirror_mode": {
    "name": "ipython",
    "version": 3
   },
   "file_extension": ".py",
   "mimetype": "text/x-python",
   "name": "python",
   "nbconvert_exporter": "python",
   "pygments_lexer": "ipython3",
   "version": "3.6.8"
  }
 },
 "nbformat": 4,
 "nbformat_minor": 2
}
