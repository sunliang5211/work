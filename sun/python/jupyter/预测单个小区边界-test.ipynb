{
 "cells": [
  {
   "cell_type": "code",
   "execution_count": 1271,
   "metadata": {},
   "outputs": [],
   "source": [
    "import numpy as np  \n",
    "import pandas as pd\n",
    "import matplotlib.pyplot as plt  \n",
    "from sklearn.cluster import KMeans\n",
    "from sklearn.cluster import DBSCAN"
   ]
  },
  {
   "cell_type": "code",
   "execution_count": 1272,
   "metadata": {},
   "outputs": [
    {
     "data": {
      "image/png": "[encoded data removed]",
      "text/plain": [
       "<Figure size 432x288 with 1 Axes>"
      ]
     },
     "metadata": {
      "needs_background": "light"
     },
     "output_type": "display_data"
    }
   ],
   "source": [
    "jwddf = pd.read_csv('D:/data/sun/dbscan/jwd.csv')\n",
    "plt.scatter(jwddf['pre_night_longitude'], jwddf['pre_night_latitude'], c=\"red\", marker='.', label='coordinate') \n",
    "plt.xlabel('longitude')  \n",
    "plt.ylabel('latitude')  \n",
    "plt.legend(loc=2)  \n",
    "plt.show() \n"
   ]
  },
  {
   "cell_type": "code",
   "execution_count": 1273,
   "metadata": {},
   "outputs": [
    {
     "data": {
      "text/plain": [
       "139"
      ]
     },
     "execution_count": 1273,
     "metadata": {},
     "output_type": "execute_result"
    }
   ],
   "source": [
    "longitude_zws = jwddf['pre_night_longitude'].median()\n",
    "longitude_pjs = jwddf['pre_night_longitude'].mean()\n",
    "\n",
    "latitude_zws = jwddf['pre_night_latitude'].median()\n",
    "latitude_pjs = jwddf['pre_night_latitude'].mean()\n",
    "jwddf.shape[0]"
   ]
  },
  {
   "cell_type": "code",
   "execution_count": 1274,
   "metadata": {},
   "outputs": [
    {
     "data": {
      "text/plain": [
       "101"
      ]
     },
     "execution_count": 1274,
     "metadata": {},
     "output_type": "execute_result"
    }
   ],
   "source": [
    "test_df = jwddf[(jwddf.pre_night_longitude > longitude_zws - 0.025) &\n",
    "            (jwddf.pre_night_longitude < longitude_zws + 0.025) &\n",
    "            (jwddf.pre_night_latitude > latitude_zws - 0.025) &\n",
    "            (jwddf.pre_night_latitude < latitude_zws + 0.025)]\n",
    "test_df.shape[0]"
   ]
  },
  {
   "cell_type": "code",
   "execution_count": 1275,
   "metadata": {},
   "outputs": [
    {
     "data": {
      "image/png": "[encoded data removed]",
      "text/plain": [
       "<Figure size 432x288 with 1 Axes>"
      ]
     },
     "metadata": {
      "needs_background": "light"
     },
     "output_type": "display_data"
    }
   ],
   "source": [
    "plt.scatter(test_df['pre_night_longitude'], test_df['pre_night_latitude'], c=\"red\", marker='.', label='coordinate') \n",
    "plt.xlabel('longitude')  \n",
    "plt.ylabel('latitude')  \n",
    "plt.legend(loc=2)  \n",
    "plt.show() "
   ]
  },
  {
   "cell_type": "code",
   "execution_count": 1276,
   "metadata": {},
   "outputs": [
    {
     "name": "stdout",
     "output_type": "stream",
     "text": [
      "[-1  0 -1  0  0  0 -1  0  0 -1  0 -1  0 -1 -1 -1 -1 -1  0 -1 -1 -1  0 -1\n",
      "  0  0 -1 -1 -1 -1  0  0 -1 -1  0  0 -1 -1  0 -1  0 -1 -1  0 -1  0  0 -1\n",
      "  0  0 -1 -1  0 -1 -1  0  0  0 -1  0 -1 -1  0  0 -1  0  0 -1 -1  0  0  0\n",
      "  0  0 -1 -1  0 -1  0  0 -1 -1 -1  0 -1 -1  0 -1  0 -1 -1 -1  0  0 -1 -1\n",
      " -1 -1 -1 -1  0]\n",
      "[ 1 25 66]\n",
      "(101,)\n",
      "(3,)\n"
     ]
    }
   ],
   "source": [
    "db = DBSCAN(eps=0.001, min_samples=40).fit(test_df)\n",
    "print(db.labels_)\n",
    "print(db.core_sample_indices_)\n",
    "print(db.labels_.shape)\n",
    "print(db.core_sample_indices_.shape)\n"
   ]
  },
  {
   "cell_type": "code",
   "execution_count": 1277,
   "metadata": {},
   "outputs": [
    {
     "name": "stdout",
     "output_type": "stream",
     "text": [
      "[False  True False False False False False False False False False False\n",
      " False False False False False False False False False False False False\n",
      " False  True False False False False False False False False False False\n",
      " False False False False False False False False False False False False\n",
      " False False False False False False False False False False False False\n",
      " False False False False False False  True False False False False False\n",
      " False False False False False False False False False False False False\n",
      " False False False False False False False False False False False False\n",
      " False False False False False]\n",
      "[False  True False  True  True  True False  True  True False  True False\n",
      "  True False False False False False  True False False False  True False\n",
      "  True  True False False False False  True  True False False  True  True\n",
      " False False  True False  True False False  True False  True  True False\n",
      "  True  True False False  True False False  True  True  True False  True\n",
      " False False  True  True False  True  True False False  True  True  True\n",
      "  True  True False False  True False  True  True False False False  True\n",
      " False False  True False  True False False False  True  True False False\n",
      " False False False False  True]\n",
      "(101,)\n",
      "(101,)\n",
      "False    98\n",
      "True      3\n",
      "Name: 0, dtype: int64\n",
      "False    55\n",
      "True     46\n",
      "Name: 0, dtype: int64\n",
      "1\n",
      "55\n"
     ]
    }
   ],
   "source": [
    "labels = db.labels_\n",
    "\n",
    "core_samples_mask = np.zeros_like(labels, dtype=bool)\n",
    "core_samples_mask[db.core_sample_indices_] = True\n",
    "class_member_mask = (labels == 0)\n",
    "\n",
    "print(core_samples_mask)\n",
    "print(class_member_mask)\n",
    "print(core_samples_mask.shape)\n",
    "print(class_member_mask.shape)\n",
    "print(pd.DataFrame(core_samples_mask)[0].value_counts())\n",
    "print(pd.DataFrame(class_member_mask)[0].value_counts())\n",
    "\n",
    "n_clusters_ = len(set(labels)) - (1 if -1 in labels else 0)\n",
    "n_noise_ = list(labels).count(-1)\n",
    "print(n_clusters_)\n",
    "print(n_noise_)"
   ]
  },
  {
   "cell_type": "code",
   "execution_count": 1278,
   "metadata": {},
   "outputs": [
    {
     "name": "stdout",
     "output_type": "stream",
     "text": [
      "(55, 2)\n",
      "     pre_night_longitude  pre_night_latitude\n",
      "1             114.227860           30.619560\n",
      "4             114.224410           30.617090\n",
      "9             114.224410           30.617090\n",
      "13            114.235650           30.618378\n",
      "15            114.227860           30.619560\n",
      "17            114.224410           30.617090\n",
      "18            114.235650           30.618378\n",
      "19            114.235650           30.618378\n",
      "20            114.224350           30.623230\n",
      "21            114.235650           30.618378\n",
      "25            114.235650           30.618378\n",
      "26            114.235650           30.618378\n",
      "27            114.235650           30.618378\n",
      "29            114.227931           30.620853\n",
      "32            114.235650           30.618378\n",
      "34            114.235650           30.618378\n",
      "35            114.235650           30.618378\n",
      "36            114.227217           30.620297\n",
      "40            114.235650           30.618378\n",
      "41            114.235650           30.618378\n",
      "44            114.226098           30.622978\n",
      "45            114.227217           30.620297\n",
      "47            114.235650           30.618378\n",
      "50            114.209670           30.622900\n",
      "53            114.235650           30.618378\n",
      "55            114.227860           30.619560\n",
      "59            114.226440           30.625070\n",
      "63            114.227217           30.620297\n",
      "65            114.235650           30.618378\n",
      "67            114.235650           30.618378\n",
      "68            114.228035           30.620855\n",
      "77            114.226440           30.625060\n",
      "79            114.218451           30.616811\n",
      "80            114.235650           30.618378\n",
      "83            114.235650           30.618378\n",
      "87            114.235650           30.618378\n",
      "90            114.227217           30.620297\n",
      "100           114.235650           30.618378\n",
      "101           114.235650           30.618378\n",
      "103           114.227474           30.622241\n",
      "107           114.227860           30.619560\n",
      "108           114.227860           30.619560\n",
      "110           114.224410           30.617090\n",
      "112           114.235650           30.618378\n",
      "113           114.227217           30.620297\n",
      "116           114.204880           30.618210\n",
      "118           114.227860           30.619560\n",
      "120           114.235650           30.618378\n",
      "121           114.235650           30.618378\n",
      "124           114.235650           30.618378\n",
      "125           114.227860           30.619560\n",
      "127           114.235650           30.618378\n",
      "128           114.237526           30.620426\n",
      "133           114.227860           30.619560\n",
      "135           114.227474           30.622241\n",
      "(3, 2)\n",
      "    pre_night_longitude  pre_night_latitude\n",
      "3            114.226226           30.618472\n",
      "31           114.226226           30.618472\n",
      "86           114.226226           30.618472\n",
      "(43, 2)\n",
      "     pre_night_longitude  pre_night_latitude\n",
      "5             114.226941           30.618983\n",
      "6             114.226420           30.617907\n",
      "7             114.226200           30.619373\n",
      "10            114.226941           30.618983\n",
      "11            114.226420           30.617907\n",
      "14            114.226200           30.619373\n",
      "16            114.226420           30.617907\n",
      "23            114.226990           30.618940\n",
      "28            114.226941           30.618983\n",
      "30            114.226200           30.619373\n",
      "38            114.226941           30.618983\n",
      "39            114.226420           30.617907\n",
      "42            114.226941           30.618983\n",
      "43            114.226990           30.618940\n",
      "46            114.226420           30.617907\n",
      "48            114.226420           30.617907\n",
      "54            114.226420           30.617907\n",
      "56            114.225982           30.617880\n",
      "58            114.226941           30.618983\n",
      "60            114.226941           30.618983\n",
      "62            114.226941           30.618983\n",
      "66            114.226420           30.617907\n",
      "71            114.226990           30.618940\n",
      "73            114.226990           30.618940\n",
      "75            114.226941           30.618983\n",
      "78            114.226941           30.618983\n",
      "81            114.226941           30.618983\n",
      "82            114.226990           30.618940\n",
      "85            114.226420           30.617907\n",
      "92            114.226941           30.618983\n",
      "93            114.226990           30.618940\n",
      "94            114.226420           30.617907\n",
      "95            114.226420           30.617907\n",
      "97            114.226990           30.618940\n",
      "102           114.226941           30.618983\n",
      "105           114.226420           30.617907\n",
      "106           114.226941           30.618983\n",
      "111           114.226420           30.617907\n",
      "115           114.226941           30.618983\n",
      "117           114.226450           30.617891\n",
      "122           114.226450           30.617891\n",
      "123           114.226450           30.617891\n",
      "138           114.226941           30.618983\n"
     ]
    },
    {
     "data": {
      "image/png": "[encoded data removed]",
      "text/plain": [
       "<Figure size 432x288 with 1 Axes>"
      ]
     },
     "metadata": {
      "needs_background": "light"
     },
     "output_type": "display_data"
    }
   ],
   "source": [
    "noise_member_mask = (labels == -1)\n",
    "xy = test_df[noise_member_mask]\n",
    "print(xy.shape)\n",
    "print(xy)\n",
    "plt.plot(xy['pre_night_longitude'], xy['pre_night_latitude'], '.', markersize=6)\n",
    "xy = test_df[class_member_mask & core_samples_mask]\n",
    "print(xy.shape)\n",
    "print(xy)\n",
    "plt.plot(xy['pre_night_longitude'], xy['pre_night_latitude'], '+', markersize=6)\n",
    "xy = test_df[class_member_mask & ~core_samples_mask]\n",
    "print(xy.shape)\n",
    "print(xy)\n",
    "plt.plot(xy['pre_night_longitude'], xy['pre_night_latitude'], '^', markersize=6)\n",
    "plt.title('Estimated number of clusters: %d' % n_clusters_)\n",
    "plt.show()\n"
   ]
  },
  {
   "cell_type": "code",
   "execution_count": 1279,
   "metadata": {},
   "outputs": [
    {
     "name": "stdout",
     "output_type": "stream",
     "text": [
      "(46, 2)\n",
      "     pre_night_longitude  pre_night_latitude\n",
      "3             114.226226           30.618472\n",
      "5             114.226941           30.618983\n",
      "6             114.226420           30.617907\n",
      "7             114.226200           30.619373\n",
      "10            114.226941           30.618983\n",
      "11            114.226420           30.617907\n",
      "14            114.226200           30.619373\n",
      "16            114.226420           30.617907\n",
      "23            114.226990           30.618940\n",
      "28            114.226941           30.618983\n",
      "30            114.226200           30.619373\n",
      "31            114.226226           30.618472\n",
      "38            114.226941           30.618983\n",
      "39            114.226420           30.617907\n",
      "42            114.226941           30.618983\n",
      "43            114.226990           30.618940\n",
      "46            114.226420           30.617907\n",
      "48            114.226420           30.617907\n",
      "54            114.226420           30.617907\n",
      "56            114.225982           30.617880\n",
      "58            114.226941           30.618983\n",
      "60            114.226941           30.618983\n",
      "62            114.226941           30.618983\n",
      "66            114.226420           30.617907\n",
      "71            114.226990           30.618940\n",
      "73            114.226990           30.618940\n",
      "75            114.226941           30.618983\n",
      "78            114.226941           30.618983\n",
      "81            114.226941           30.618983\n",
      "82            114.226990           30.618940\n",
      "85            114.226420           30.617907\n",
      "86            114.226226           30.618472\n",
      "92            114.226941           30.618983\n",
      "93            114.226990           30.618940\n",
      "94            114.226420           30.617907\n",
      "95            114.226420           30.617907\n",
      "97            114.226990           30.618940\n",
      "102           114.226941           30.618983\n",
      "105           114.226420           30.617907\n",
      "106           114.226941           30.618983\n",
      "111           114.226420           30.617907\n",
      "115           114.226941           30.618983\n",
      "117           114.226450           30.617891\n",
      "122           114.226450           30.617891\n",
      "123           114.226450           30.617891\n",
      "138           114.226941           30.618983\n"
     ]
    },
    {
     "data": {
      "image/png": "[encoded data removed]",
      "text/plain": [
       "<Figure size 432x288 with 1 Axes>"
      ]
     },
     "metadata": {
      "needs_background": "light"
     },
     "output_type": "display_data"
    }
   ],
   "source": [
    "xy = test_df[class_member_mask]\n",
    "print(xy.shape)\n",
    "print(xy)\n",
    "plt.scatter(xy['pre_night_longitude'], xy['pre_night_latitude'], c=\"red\", marker='.', label='coordinate') \n",
    "plt.xlabel('longitude')  \n",
    "plt.ylabel('latitude')  \n",
    "plt.legend(loc=2)  \n",
    "plt.show() "
   ]
  },
  {
   "cell_type": "code",
   "execution_count": 1280,
   "metadata": {},
   "outputs": [
    {
     "data": {
      "text/plain": [
       "(114.22698999999999, 114.22598232, 30.619373, 30.61788027)"
      ]
     },
     "execution_count": 1280,
     "metadata": {},
     "output_type": "execute_result"
    }
   ],
   "source": [
    "xy['pre_night_longitude'].max(),xy['pre_night_longitude'].min(),xy['pre_night_latitude'].max(),xy['pre_night_latitude'].min()"
   ]
  }
 ],
 "metadata": {
  "kernelspec": {
   "display_name": "Python 3",
   "language": "python",
   "name": "python3"
  },
  "language_info": {
   "codemirror_mode": {
    "name": "ipython",
    "version": 3
   },
   "file_extension": ".py",
   "mimetype": "text/x-python",
   "name": "python",
   "nbconvert_exporter": "python",
   "pygments_lexer": "ipython3",
   "version": "3.6.8"
  }
 },
 "nbformat": 4,
 "nbformat_minor": 2
}
